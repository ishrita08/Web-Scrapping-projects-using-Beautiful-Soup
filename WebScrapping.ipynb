{
  "nbformat": 4,
  "nbformat_minor": 0,
  "metadata": {
    "colab": {
      "provenance": [],
      "authorship_tag": "ABX9TyNzhaqWVvIF2V9lWLSVjTN4",
      "include_colab_link": true
    },
    "kernelspec": {
      "name": "python3",
      "display_name": "Python 3"
    },
    "language_info": {
      "name": "python"
    }
  },
  "cells": [
    {
      "cell_type": "markdown",
      "metadata": {
        "id": "view-in-github",
        "colab_type": "text"
      },
      "source": [
        "<a href=\"https://colab.research.google.com/github/ishrita08/Web-Scrapping-projects-using-Beautiful-Soup/blob/main/WebScrapping.ipynb\" target=\"_parent\"><img src=\"https://colab.research.google.com/assets/colab-badge.svg\" alt=\"Open In Colab\"/></a>"
      ]
    },
    {
      "cell_type": "code",
      "source": [
        "from bs4 import BeautifulSoup\n",
        "import requests"
      ],
      "metadata": {
        "id": "5_Wzp9KChGvw"
      },
      "execution_count": 1,
      "outputs": []
    },
    {
      "cell_type": "code",
      "source": [
        "print(\" Mention the skills you are not familiar with\")\n",
        "unfamiliar_skills = input('>')\n",
        "print(f\"Filtering out : {unfamiliar_skills}\")\n",
        "html_text= requests.get('https://www.timesjobs.com/candidate/job-search.html?searchType=personalizedSearch&from=submit&searchTextSrc=&searchTextText=&txtKeywords=pyhton&txtLocation=').text\n"
      ],
      "metadata": {
        "colab": {
          "base_uri": "https://localhost:8080/"
        },
        "collapsed": true,
        "id": "doZ2Y0JfhNTQ",
        "outputId": "7aac5553-3d05-4692-b130-56751e61ba1d"
      },
      "execution_count": 14,
      "outputs": [
        {
          "output_type": "stream",
          "name": "stdout",
          "text": [
            " Mention the skills you are not familiar with\n",
            ">python\n",
            "Filtering out : python\n"
          ]
        }
      ]
    },
    {
      "cell_type": "code",
      "source": [
        "soup = BeautifulSoup(html_text, 'lxml')"
      ],
      "metadata": {
        "id": "aGgfRaQ8hNP4"
      },
      "execution_count": 3,
      "outputs": []
    },
    {
      "cell_type": "code",
      "source": [
        "jobs = soup.find_all('li', class_='clearfix job-bx wht-shd-bx')\n",
        "for job in jobs:\n",
        "\n",
        "  pub_dates = job.find('span', class_='sim-posted').span.text\n",
        "  if 'few' in pub_dates:\n",
        "    company_name = job.find('h3', class_='joblist-comp-name').text.replace(' ', '')\n",
        "    skills = job.find('span', class_= 'srp-skills').text.replace(' ', '')\n",
        "    more_info = job.header.h2.a['href']\n",
        "    if unfamiliar_skills not in skills:\n",
        "        print(f\"Company Name : {company_name.strip()}\")\n",
        "        print(f\"Required Skills : {skills.strip()}\")\n",
        "        print(f\"More Info : {more_info}\")\n",
        "        print('')"
      ],
      "metadata": {
        "colab": {
          "base_uri": "https://localhost:8080/"
        },
        "id": "bMTK-0vLhNNz",
        "outputId": "83e64ca6-342f-4439-a91c-44b9f20ec704"
      },
      "execution_count": 15,
      "outputs": [
        {
          "output_type": "stream",
          "name": "stdout",
          "text": [
            "Company Name : infinitybusinesssolutionspvtltd\n",
            "Required Skills : Java,Python,Scala,NoSql,BigData,hive,algorithms,scala,artificialintelligence,elasticsearch,database,java,oops,bigdata,mongodb,hbase,problemsolving,impala,machinelearning,nosql,consultant\n",
            "More Info : https://www.timesjobs.com/job-detail/technical-lead-big-data-java-pyhton-scala-nosql-infinity-business-solutions-pvt-ltd-bengaluru-bangalore-6-to-12-yrs-jobid-MYpwsk3rJ__PLUS__5zpSvf__PLUS__uAgZw==&source=srp\n",
            "\n",
            "Company Name : infinitybusinesssolutionspvtltd\n",
            "Required Skills : Java,Python,Scala,NoSql,BigData,hive,algorithms,scala,artificialintelligence,elasticsearch,database,java,oops,bigdata,mongodb,hbase,problemsolving,impala,machinelearning,nosql,consultant\n",
            "More Info : https://www.timesjobs.com/job-detail/technical-lead-big-data-java-pyhton-scala-nosql-infinity-business-solutions-pvt-ltd-bengaluru-bangalore-6-to-12-yrs-jobid-GeK__SLASH__egxu8wJzpSvf__PLUS__uAgZw==&source=srp\n",
            "\n",
            "Company Name : BUSISOLSOURCINGINDIAPVT.LTD\n",
            "Required Skills : operatingsystem,vulnerabilityassessment,cissp,cism,sql,penetrationtesting,cisa,perl,nmap\n",
            "More Info : https://www.timesjobs.com/job-detail/testing-engineer-busisol-sourcing-india-pvt-ltd-hyderabad-secunderabad-0-to-3-yrs-jobid-OW2uAFES4EFzpSvf__PLUS__uAgZw==&source=srp\n",
            "\n",
            "Company Name : BUSISOLSOURCINGINDIAPVT.LTD\n",
            "Required Skills : operatingsystem,vulnerabilityassessment,cissp,cism,sql,penetrationtesting,cisa,perl,nmap\n",
            "More Info : https://www.timesjobs.com/job-detail/testing-engineer-busisol-sourcing-india-pvt-ltd-hyderabad-secunderabad-0-to-3-yrs-jobid-qJa6wTLdLfVzpSvf__PLUS__uAgZw==&source=srp\n",
            "\n",
            "Company Name : AnalyticsVidhya\n",
            "Required Skills : datamining,mobile,businessanalysis,sql,predictivemodeling,datascientist,textmining,statisticalanalysis\n",
            "More Info : https://www.timesjobs.com/job-detail/data-scientist-analytics-vidhya-gurgaon-5-to-8-yrs-jobid-IeOlfM96L4tzpSvf__PLUS__uAgZw==&source=srp\n",
            "\n"
          ]
        }
      ]
    },
    {
      "cell_type": "code",
      "source": [
        "import os\n",
        "os.makedirs(\"posts\", exist_ok=True)\n"
      ],
      "metadata": {
        "id": "Y7uK2bQxyuZ9"
      },
      "execution_count": 20,
      "outputs": []
    },
    {
      "cell_type": "code",
      "source": [
        "from bs4 import BeautifulSoup\n",
        "\n",
        "import requests\n",
        "\n",
        "import time\n",
        "\n",
        "print('Put some skill that you are not familiar with')\n",
        "\n",
        "unfamiliar_skill = input('>')\n",
        "\n",
        "print(f'Filtering out {unfamiliar_skill}')\n",
        "\n",
        "def find_jobs():\n",
        "\n",
        "    html_text = requests.get('https://www.timesjobs.com/candidate/job-search.html?searchType=personalizedSearch&from=submit&searchTextSrc=&searchTextText=&txtKeywords=pyhton&txtLocation=').text\n",
        "\n",
        "    soup= BeautifulSoup(html_text, 'lxml')\n",
        "\n",
        "    jobs= soup.find_all('li', class_ = 'clearfix job-bx wht-shd-bx')\n",
        "\n",
        "    for index, job in enumerate (jobs):\n",
        "\n",
        "        published_date =job.find('span', class_='sim-posted').span.text\n",
        "\n",
        "        if 'few' in published_date:\n",
        "\n",
        "            company_name = job.find('h3', class_='joblist-comp-name').text.replace(' ', '')\n",
        "            skills= job.find('span', class_ = 'srp-skills').text.replace('','')\n",
        "\n",
        "            more_info= job.header.h2.a['href']\n",
        "\n",
        "            if unfamiliar_skill not in skills:\n",
        "\n",
        "                with open(f'posts/{index}.txt', 'w') as f:\n",
        "\n",
        "                    f.write(f\"Company Name: {company_name.strip()} \\n\")\n",
        "                    f.write(f\"Required Skills: {skills.strip()} \\n\")\n",
        "\n",
        "                    f.write(f\"More Info: {more_info}\")\n",
        "\n",
        "                print(f'File saved: {index}')\n",
        "\n",
        "if __name__=='__main__':\n",
        "\n",
        "    while True:\n",
        "\n",
        "        find_jobs()\n",
        "\n",
        "        time_wait= 10\n",
        "\n",
        "        print(f'Waiting {time_wait} minutes...')\n",
        "\n",
        "        time.sleep(time_wait*60)"
      ],
      "metadata": {
        "id": "BjKMfL2shNLZ",
        "colab": {
          "base_uri": "https://localhost:8080/",
          "height": 347
        },
        "outputId": "e6ee4fa1-dfbc-4d72-8e90-fd3f70aa6112"
      },
      "execution_count": 22,
      "outputs": [
        {
          "output_type": "stream",
          "name": "stdout",
          "text": [
            "Put some skill that you are not familiar with\n",
            ">linux\n",
            "Filtering out linux\n",
            "File saved: 0\n",
            "File saved: 1\n",
            "File saved: 2\n",
            "File saved: 3\n",
            "File saved: 4\n",
            "Waiting (time_wait) minutes...\n"
          ]
        },
        {
          "output_type": "error",
          "ename": "KeyboardInterrupt",
          "evalue": "",
          "traceback": [
            "\u001b[0;31m---------------------------------------------------------------------------\u001b[0m",
            "\u001b[0;31mKeyboardInterrupt\u001b[0m                         Traceback (most recent call last)",
            "\u001b[0;32m<ipython-input-22-490567e04884>\u001b[0m in \u001b[0;36m<cell line: 43>\u001b[0;34m()\u001b[0m\n\u001b[1;32m     51\u001b[0m         \u001b[0mprint\u001b[0m\u001b[0;34m(\u001b[0m\u001b[0;34mf'Waiting (time_wait) minutes...'\u001b[0m\u001b[0;34m)\u001b[0m\u001b[0;34m\u001b[0m\u001b[0;34m\u001b[0m\u001b[0m\n\u001b[1;32m     52\u001b[0m \u001b[0;34m\u001b[0m\u001b[0m\n\u001b[0;32m---> 53\u001b[0;31m         \u001b[0mtime\u001b[0m\u001b[0;34m.\u001b[0m\u001b[0msleep\u001b[0m\u001b[0;34m(\u001b[0m\u001b[0mtime_wait\u001b[0m\u001b[0;34m*\u001b[0m\u001b[0;36m60\u001b[0m\u001b[0;34m)\u001b[0m\u001b[0;34m\u001b[0m\u001b[0;34m\u001b[0m\u001b[0m\n\u001b[0m",
            "\u001b[0;31mKeyboardInterrupt\u001b[0m: "
          ]
        }
      ]
    }
  ]
}